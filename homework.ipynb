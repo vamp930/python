{
 "cells": [
  {
   "cell_type": "markdown",
   "metadata": {},
   "source": [
    "Write a program that asks the user to enter a number and checks whether the number is even or odd."
   ]
  },
  {
   "cell_type": "code",
   "execution_count": 1,
   "metadata": {},
   "outputs": [
    {
     "name": "stdout",
     "output_type": "stream",
     "text": [
      "3 is a odd number\n"
     ]
    }
   ],
   "source": [
    "num = int(input('Enter number:'))\n",
    "if num % 2 == 0:\n",
    "    print(f'{num} is an even number')\n",
    "else:\n",
    "    print(f'{num} is a odd number')"
   ]
  },
  {
   "cell_type": "markdown",
   "metadata": {},
   "source": [
    "Write a program that asks the user to enter a number and checks whether it is positive, negative, or zero."
   ]
  },
  {
   "cell_type": "code",
   "execution_count": 15,
   "metadata": {},
   "outputs": [
    {
     "name": "stdout",
     "output_type": "stream",
     "text": [
      "The number  is positive\n"
     ]
    }
   ],
   "source": [
    "num = int(input('enter number:'))\n",
    "if num > 0:\n",
    "    print('The number  is positive')\n",
    "elif num < 0:\n",
    "    print('The number is negative')\n",
    "else:\n",
    "    print('number is zero')"
   ]
  },
  {
   "cell_type": "markdown",
   "metadata": {},
   "source": [
    "Write a program that asks the user to enter their age and checks if they are eligible to vote (18 years or older)"
   ]
  },
  {
   "cell_type": "code",
   "execution_count": 14,
   "metadata": {},
   "outputs": [
    {
     "name": "stdout",
     "output_type": "stream",
     "text": [
      "The person is  eligible to vote\n"
     ]
    }
   ],
   "source": [
    "age = int(input('Enter your age:'))\n",
    "if age < 18:\n",
    "    print('The person is not eligible to vote')\n",
    "elif age > 18: \n",
    "    print('The person is  eligible to vote')"
   ]
  },
  {
   "cell_type": "markdown",
   "metadata": {},
   "source": [
    "Write a program that takes the lengths of three sides of a triangle as input and determines if the triangle is:\n",
    "\n",
    " 1 Equilateral (all sides are equal)\n",
    " 2 Isosceles (two sides are equal)\n",
    " 3 Scalene (all sides are different)"
   ]
  },
  {
   "cell_type": "code",
   "execution_count": 13,
   "metadata": {},
   "outputs": [
    {
     "name": "stdout",
     "output_type": "stream",
     "text": [
      "Every sides are different\n"
     ]
    }
   ],
   "source": [
    "num1 = float(input('enter first side:'))\n",
    "num2 = float(input('enter second side:'))\n",
    "num3 = float(input('enter third side:'))\n",
    "if num1 == num2 == num3:\n",
    "    print('The triangle is an equilateral')\n",
    "if num1 == num2 or num2==num3 or num3==num1:\n",
    "    print('Two sides are equal')\n",
    "elif num1 != num2 != num3:\n",
    "    print('Every sides are different')"
   ]
  },
  {
   "cell_type": "markdown",
   "metadata": {},
   "source": [
    "Write a program that asks the user to enter a password and checks if it matches a predefined password (e.g., \"Python123\")."
   ]
  },
  {
   "cell_type": "code",
   "execution_count": 3,
   "metadata": {},
   "outputs": [
    {
     "name": "stdout",
     "output_type": "stream",
     "text": [
      "Password incorrect, Access denied\n"
     ]
    }
   ],
   "source": [
    "predefined_password = 'Dhirajk'\n",
    "entered_password = input('Enter password')\n",
    "if entered_password == predefined_password:\n",
    "    print('Password matched, Access granted!')\n",
    "else:\n",
    "    print('Password incorrect, Access denied')"
   ]
  },
  {
   "cell_type": "markdown",
   "metadata": {},
   "source": [
    "for loop"
   ]
  },
  {
   "cell_type": "markdown",
   "metadata": {},
   "source": [
    "Multiplication Table: Write a Python program to print the multiplication table of a given number using a for loop."
   ]
  },
  {
   "cell_type": "code",
   "execution_count": 3,
   "metadata": {},
   "outputs": [
    {
     "name": "stdout",
     "output_type": "stream",
     "text": [
      "1 x 1 = 1\n",
      "1 x 2 = 2\n",
      "1 x 3 = 3\n",
      "1 x 4 = 4\n",
      "1 x 5 = 5\n",
      "1 x 6 = 6\n",
      "1 x 7 = 7\n",
      "1 x 8 = 8\n",
      "1 x 9 = 9\n",
      "1 x 10 = 10\n",
      "1 x 11 = 11\n",
      "1 x 12 = 12\n",
      "1 x 13 = 13\n",
      "1 x 14 = 14\n",
      "1 x 15 = 15\n",
      "1 x 16 = 16\n",
      "1 x 17 = 17\n",
      "1 x 18 = 18\n",
      "1 x 19 = 19\n",
      "1 x 20 = 20\n"
     ]
    }
   ],
   "source": [
    "num = int(input(\"Enter a number to print its multiplication table: \"))\n",
    "for i in range(1,21):\n",
    "    print(f\"{num} x {i} = {num * i}\")"
   ]
  },
  {
   "cell_type": "markdown",
   "metadata": {},
   "source": [
    "Count Vowels: Write a program to count and display the number of vowels in a given string."
   ]
  },
  {
   "cell_type": "code",
   "execution_count": 12,
   "metadata": {},
   "outputs": [
    {
     "name": "stdout",
     "output_type": "stream",
     "text": [
      "The number of vowels in a given string: 2\n"
     ]
    }
   ],
   "source": [
    "input_string = input('enter a string:')\n",
    "vowel_count = 0\n",
    "vowels = 'aeiouAEIOU'\n",
    "for char in input_string:\n",
    "    if char in vowels:\n",
    "        vowel_count += 1\n",
    "print(f'The number of vowels in a given string: {vowel_count}')"
   ]
  },
  {
   "cell_type": "markdown",
   "metadata": {},
   "source": [
    "Sum of Even Numbers Create a program to find the sum of all even numbers in a list using a for loop."
   ]
  },
  {
   "cell_type": "code",
   "execution_count": 10,
   "metadata": {},
   "outputs": [
    {
     "name": "stdout",
     "output_type": "stream",
     "text": [
      "The sum of all even numbers in the list is: 56\n"
     ]
    }
   ],
   "source": [
    "numbers = [1, 2, 3, 4, 5, 6, 7, 8, 9, 10,11,12,13,14]\n",
    "sum_of_even_numbers = 0\n",
    "for num in numbers:\n",
    "    if num % 2 == 0:\n",
    "        sum_of_even_numbers += num  \n",
    "print(f\"The sum of all even numbers in the list is: {sum_of_even_numbers}\")"
   ]
  },
  {
   "cell_type": "code",
   "execution_count": 8,
   "metadata": {},
   "outputs": [
    {
     "name": "stdout",
     "output_type": "stream",
     "text": [
      "The largest number is: 9\n",
      "The smallest number is: 1\n"
     ]
    }
   ],
   "source": [
    "#Create a program to find the largest and smallest numbers in a list using a for loop.\n",
    "\n",
    "numbers = [ 9 ,3, 7, 1, 6,2]\n",
    "largest = numbers[0]\n",
    "smallest = numbers[0]\n",
    "for num in numbers:\n",
    "    if num > largest:\n",
    "        largest = num\n",
    "    if num < smallest:\n",
    "        smallest = num\n",
    "print(f'The largest number is: {largest}')\n",
    "print(f'The smallest number is: {smallest}')"
   ]
  },
  {
   "cell_type": "code",
   "execution_count": 16,
   "metadata": {},
   "outputs": [
    {
     "name": "stdout",
     "output_type": "stream",
     "text": [
      "The sum of digit of num is : 8\n"
     ]
    }
   ],
   "source": [
    "#Write a program to calculate the sum of digits of a given number using a for loop.\n",
    "\n",
    "num = int(input('Enter a number:'))\n",
    "sum_of_digits = 0\n",
    "for digits in str(num):\n",
    "    sum_of_digits += int(digits)\n",
    "print(f'The sum of digit of num is : {sum_of_digits}')"
   ]
  },
  {
   "cell_type": "code",
   "execution_count": 17,
   "metadata": {},
   "outputs": [
    {
     "name": "stdout",
     "output_type": "stream",
     "text": [
      "The reversed string is: pmav\n"
     ]
    }
   ],
   "source": [
    "#Write a program to reverse a given string using a for loop.\n",
    "\n",
    "input_string = input(\"Enter a string:\")\n",
    "reversed_string = \"\"\n",
    "for char in input_string:\n",
    "    reversed_string = char + reversed_string \n",
    "print(f\"The reversed string is: {reversed_string}\")"
   ]
  },
  {
   "cell_type": "markdown",
   "metadata": {},
   "source": [
    "function"
   ]
  },
  {
   "cell_type": "code",
   "execution_count": 20,
   "metadata": {},
   "outputs": [
    {
     "name": "stdout",
     "output_type": "stream",
     "text": [
      "The factorial of 5 is: 120\n"
     ]
    }
   ],
   "source": [
    "#Factorial Function: Write a function factorial(n) that returns the factorial of a number using a for loop.\n",
    "\n",
    "def factorial(n):\n",
    "    result = 1\n",
    "    for i in range(1, n + 1):\n",
    "        result *= i  \n",
    "    return result\n",
    "num = int(input(\"Enter a number to calculate its factorial: \"))\n",
    "print(f\"The factorial of {num} is: {factorial(num)}\")"
   ]
  },
  {
   "cell_type": "code",
   "execution_count": 25,
   "metadata": {},
   "outputs": [
    {
     "name": "stdout",
     "output_type": "stream",
     "text": [
      "9 is not a prime number.\n"
     ]
    }
   ],
   "source": [
    "#Prime Check Function: Create a function is_prime(n) to check whether a number is prime.\n",
    "\n",
    "def is_prime(n):\n",
    "   if n <= 1:\n",
    "        return False\n",
    "        for i in range(2, int(n**0.5) + 1):\n",
    "         if n % i == 0:\n",
    "            return False  # If divisible, it's not a prime number\n",
    "    \n",
    "        return True  # If no divisors were found, it's a prime number\n",
    "\n",
    "num = int(input(\"Enter a number to check if it's prime: \"))\n",
    "if is_prime(num):\n",
    "    print(f\"{num} is a prime number.\")\n",
    "else:\n",
    "    print(f\"{num} is not a prime number.\")"
   ]
  },
  {
   "cell_type": "code",
   "execution_count": 57,
   "metadata": {},
   "outputs": [
    {
     "name": "stdout",
     "output_type": "stream",
     "text": [
      "The maximum value in the list is: 90\n"
     ]
    }
   ],
   "source": [
    "#Find Maximum in List:Write a function find_max(lst) to find and return the maximum value in a list.\n",
    "\n",
    "def find_max(list):\n",
    "    max_value = list[0]\n",
    "    for num in list:\n",
    "        if num>max_value:\n",
    "            max_value = num\n",
    "    return max_value\n",
    "numbers = [10,80,82,89,90]\n",
    "print(f\"The maximum value in the list is: {find_max(numbers)}\")"
   ]
  },
  {
   "cell_type": "code",
   "execution_count": 26,
   "metadata": {},
   "outputs": [
    {
     "name": "stdout",
     "output_type": "stream",
     "text": [
      "'dhirendra' is not a palindrome.\n"
     ]
    }
   ],
   "source": [
    "#Write a function palindrome_check(string) that returns True if the given string is a palindrome, otherwise False.\n",
    "\n",
    "def palindrome_check(string):\n",
    "    cleaned_string = ''.join(string.split()).lower()\n",
    "    return cleaned_string == cleaned_string[::-1]\n",
    "\n",
    "# Example usage:\n",
    "input_string = input(\"Enter a string to check if it's a palindrome: \")\n",
    "if palindrome_check(input_string):\n",
    "    print(f\"'{input_string}' is a palindrome.\")\n",
    "else:\n",
    "    print(f\"'{input_string}' is not a palindrome.\")"
   ]
  },
  {
   "cell_type": "code",
   "execution_count": 28,
   "metadata": {},
   "outputs": [
    {
     "name": "stdout",
     "output_type": "stream",
     "text": [
      "The sum of squares of the first 2 natural numbers is: 5\n"
     ]
    }
   ],
   "source": [
    "#Write a function sum_of_squares(n) that returns the sum of squares of the first n natural numbers.\n",
    "\n",
    "def sum_of_squares(n):\n",
    "    total = 0\n",
    "    \n",
    "    for i in range(1, n + 1):\n",
    "        total += i**2\n",
    "    return total\n",
    "\n",
    "# Example usage:\n",
    "n = int(input(\"Enter a number to calculate the sum of squares: \"))\n",
    "print(f\"The sum of squares of the first {n} natural numbers is: {sum_of_squares(n)}\")"
   ]
  },
  {
   "cell_type": "code",
   "execution_count": 55,
   "metadata": {},
   "outputs": [
    {
     "name": "stdout",
     "output_type": "stream",
     "text": [
      "Area of the rectangle: 18\n",
      "Perimeter of the rectangle: 22\n"
     ]
    }
   ],
   "source": [
    "#Rectangle Class:Define a class Rectangle with: ○ Two attributes: length and width. ○ A method area() to calculate the area. ○ A method perimeter() to calculate the perimeter.\n",
    "class Rectangle:\n",
    "    def __init__(self, length, width):\n",
    "        self.length = length\n",
    "        self.width = width\n",
    "\n",
    "    def area(self):\n",
    "        # Method to calculate the area of the rectangle\n",
    "        return self.length * self.width\n",
    "\n",
    "    def perimeter(self):\n",
    "        # Method to calculate the perimeter of the rectangle\n",
    "        return 2 * (self.length + self.width)\n",
    "rect = Rectangle(9, 2)\n",
    "\n",
    "# Calculate and print the area and perimeter\n",
    "print(f\"Area of the rectangle: {rect.area()}\")\n",
    "print(f\"Perimeter of the rectangle: {rect.perimeter()}\")"
   ]
  },
  {
   "cell_type": "code",
   "execution_count": 52,
   "metadata": {},
   "outputs": [
    {
     "name": "stdout",
     "output_type": "stream",
     "text": [
      "Name: sushant\n",
      "Roll Number: 19\n",
      "Marks: 85\n",
      "Status: Passed\n"
     ]
    }
   ],
   "source": [
    "#Student Class: Create a class Student with: ○ Attributes: name, roll_number, and marks. ○ A method display_details() to print the student's details. ○ A method is_passed() that returns True if marks ≥ 40, else False.\n",
    "\n",
    "class Student:\n",
    "    def __init__(self, name, roll_number, marks):\n",
    "        self.name = name\n",
    "        self.roll_number = roll_number\n",
    "        self.marks = marks\n",
    "\n",
    "    def display_details(self):\n",
    "        print(f\"Name: {self.name}\")\n",
    "        print(f\"Roll Number: {self.roll_number}\")\n",
    "        print(f\"Marks: {self.marks}\")\n",
    "\n",
    "    def is_passed(self):\n",
    "        if self.marks >= 40:\n",
    "            return True\n",
    "        else:\n",
    "            return False\n",
    "# Create a Student object\n",
    "student1 = Student(\"sushant\", 19, 85)\n",
    "\n",
    "# Display student details\n",
    "student1.display_details()\n",
    "\n",
    "# Check if the student has passed\n",
    "if student1.is_passed():\n",
    "    print(\"Status: Passed\")\n",
    "else:\n",
    "    print(\"Status: Failed\")"
   ]
  },
  {
   "cell_type": "code",
   "execution_count": 50,
   "metadata": {},
   "outputs": [
    {
     "name": "stdout",
     "output_type": "stream",
     "text": [
      "Area of the circle: 254.47\n",
      "Circumference of the circle: 56.55\n"
     ]
    }
   ],
   "source": [
    "#Define a class Circle with: ● Attribute: radius. ● Methods: area() to calculate the area, circumference() to calculate the circumference.\n",
    "\n",
    "import math\n",
    "\n",
    "class Circle:\n",
    "    def __init__(self, radius):\n",
    "        self.radius = radius\n",
    "\n",
    "    def area(self):\n",
    "        # Method to calculate the area of the circle\n",
    "        return math.pi * self.radius ** 2\n",
    "\n",
    "    def circumference(self):\n",
    "        # Method to calculate the circumference of the circle\n",
    "        return 2 * math.pi * self.radius\n",
    "circle = Circle(9)\n",
    "# Calculate and print the area and circumference\n",
    "print(f\"Area of the circle: {circle.area():.2f}\")          \n",
    "print(f\"Circumference of the circle: {circle.circumference():.2f}\") "
   ]
  },
  {
   "cell_type": "code",
   "execution_count": 29,
   "metadata": {},
   "outputs": [
    {
     "name": "stdout",
     "output_type": "stream",
     "text": [
      "Current balance: $500\n",
      "Deposited $700. New balance: $1200\n",
      "Withdrew $900. New balance: $300\n",
      "Current balance: $300\n",
      "Insufficient balance.\n"
     ]
    }
   ],
   "source": [
    "#Create a class BankAccount with: ● Attributes: account_number, account_holder, balance. ● Methods: ○ deposit(amount) to add money to the account. ○ withdraw(amount) to subtract money (if sufficient balance is available). ○ display_balance() to print the current balance.\n",
    "\n",
    "import math\n",
    "\n",
    "class bankaccount:\n",
    "    def __init__(self,account_number,account_holder,balance=0):\n",
    "        self.account_number = account_number\n",
    "        self.account_holder = account_holder\n",
    "        self.balance = balance\n",
    "    def deposit(self,amount):\n",
    "        if amount>0:\n",
    "            self.balance += amount\n",
    "            print(f\"Deposited ${amount}. New balance: ${self.balance}\")\n",
    "        else:\n",
    "             print(\"Deposit amount must be greater than zero.\")\n",
    "    def withdraw(self,amount):\n",
    "        if amount > 0:\n",
    "            if self.balance >= amount:\n",
    "                self.balance -= amount\n",
    "                print(f\"Withdrew ${amount}. New balance: ${self.balance}\")\n",
    "            else:\n",
    "                print(\"Insufficient balance.\")\n",
    "        else:\n",
    "            print(\"Withdrawal amount must be greater than zero.\")\n",
    "\n",
    "    def display_balance(self):\n",
    "        # Method to display the current balance\n",
    "        print(f\"Current balance: ${self.balance}\")\n",
    "\n",
    "account = bankaccount(account_number=\"12345678\", account_holder=\"John Doe\", balance=500)\n",
    "account.display_balance()\n",
    "account.deposit(700)\n",
    "account.withdraw(900)\n",
    "account.display_balance()\n",
    "account.withdraw(400)"
   ]
  },
  {
   "cell_type": "code",
   "execution_count": 48,
   "metadata": {},
   "outputs": [
    {
     "name": "stdout",
     "output_type": "stream",
     "text": [
      "Title: Python Programming\n",
      "Author: vamp\n",
      "Price: $8799.00\n",
      "Discount applied! New price: $7919.10\n",
      "Title: Python Programming\n",
      "Author: vamp\n",
      "Price: $7919.10\n"
     ]
    }
   ],
   "source": [
    "#A class Book with: ● Attributes: title, author, price. ● Methods: ○ apply_discount(discount) to reduce the price by a given percentage. ○ display_details() to print the book details.\n",
    "\n",
    "class Book:\n",
    "    def __init__(self, title, author, price):\n",
    "        self.title = title\n",
    "        self.author = author\n",
    "        self.price = price\n",
    "\n",
    "    def apply_discount(self, discount):\n",
    "        if 0 <= discount <= 100:\n",
    "            discount_amount = (self.price * discount) / 100\n",
    "            self.price -= discount_amount\n",
    "            print(f\"Discount applied! New price: ${self.price:.2f}\")\n",
    "        else:\n",
    "            print(\"Error: Discount must be between 0 and 100.\")\n",
    "\n",
    "    def display_details(self):\n",
    "        print(f\"Title: {self.title}\")\n",
    "        print(f\"Author: {self.author}\")\n",
    "        print(f\"Price: ${self.price:.2f}\")\n",
    "\n",
    "book1 = Book(\"Python Programming\", \"vamp\", 8799)\n",
    "\n",
    "# Display initial book details\n",
    "book1.display_details()\n",
    "\n",
    "# Apply a 10% discount\n",
    "book1.apply_discount(10)\n",
    "\n",
    "# Display the updated book details\n",
    "book1.display_details()"
   ]
  },
  {
   "cell_type": "code",
   "execution_count": 45,
   "metadata": {},
   "outputs": [
    {
     "name": "stdout",
     "output_type": "stream",
     "text": [
      "Addition: 32\n",
      "Subtraction: 2\n",
      "Multiplication: 255\n",
      "Division: 1.1333333333333333\n"
     ]
    }
   ],
   "source": [
    "#Create a class Calculator with: ○ A method add(a, b) to add two numbers. ○ A method subtract(a, b) to subtract two numbers. ○ A method multiply(a, b) to multiply two numbers. ○ A method divide(a, b) to divide two numbers (handle division by zero gracefully).\n",
    "\n",
    "class Calculator:\n",
    "    def add(self, a, b):\n",
    "       \n",
    "        return a+ b\n",
    "\n",
    "    def subtract(self, a, b):\n",
    "        return a - b\n",
    "\n",
    "    def multiply(self, a, b):\n",
    "        return a * b\n",
    "\n",
    "    def divide(self, a, b):\n",
    "        if b != 0:\n",
    "            return a / b\n",
    "        else:\n",
    "            return \"Cannot divide by zero!\"\n",
    "\n",
    "# Create an object\n",
    "calc = Calculator()\n",
    "\n",
    "print(\"Addition:\", calc.add(17, 15))\n",
    "print(\"Subtraction:\", calc.subtract(17,15))\n",
    "print(\"Multiplication:\", calc.multiply(17,15))\n",
    "print(\"Division:\", calc.divide(17,15))"
   ]
  },
  {
   "cell_type": "code",
   "execution_count": 43,
   "metadata": {},
   "outputs": [
    {
     "name": "stdout",
     "output_type": "stream",
     "text": [
      "Title: Python \n",
      "Author: Dhirajkhadka\n",
      "Price: $2100.00\n",
      "Discount applied! New price: $1890.00\n",
      "Title: Python \n",
      "Author: Dhirajkhadka\n",
      "Price: $1890.00\n"
     ]
    }
   ],
   "source": [
    "#Write a class Person with: ○ Attributes: name, age, gender. ○ Method introduce() to print a message like: \"Hello, my name is [name], I am [age] years old, and I am a [gender].\" ○ Create a subclass Employee that adds: ■ Attribute: job_title. ■ Override introduce() to include the job title\n",
    "\n",
    "class Book:\n",
    "    def __init__(self, title, author, price):\n",
    "        self.title = title\n",
    "        self.author = author\n",
    "        self.price = price\n",
    "\n",
    "    def apply_discount(self, discount):\n",
    "        if 0 <= discount <= 100:\n",
    "            discount_amount = (self.price * discount) / 100\n",
    "            self.price -= discount_amount\n",
    "            print(f\"Discount applied! New price: ${self.price:.2f}\")\n",
    "        else:\n",
    "            print(\"Error: Discount must be between 0 and 100.\")\n",
    "\n",
    "    def display_details(self):\n",
    "        print(f\"Title: {self.title}\")\n",
    "        print(f\"Author: {self.author}\")\n",
    "        print(f\"Price: ${self.price:.2f}\")\n",
    "\n",
    "book1 = Book(\"Python \", \"Dhirajkhadka\", 2100)\n",
    "\n",
    "# Display initial book details\n",
    "book1.display_details()\n",
    "\n",
    "# Apply a 10% discount\n",
    "book1.apply_discount(10)\n",
    "\n",
    "# Display the updated book details\n",
    "book1.display_details()"
   ]
  },
  {
   "cell_type": "markdown",
   "metadata": {},
   "source": [
    "FILE HANDLING"
   ]
  },
  {
   "cell_type": "code",
   "execution_count": 31,
   "metadata": {},
   "outputs": [
    {
     "name": "stdout",
     "output_type": "stream",
     "text": [
      "1\n",
      "2\n",
      "3\n",
      "4\n",
      "5\n",
      "6\n",
      "7\n",
      "8\n",
      "9\n",
      "10\n",
      "11\n",
      "12\n",
      "13\n",
      "\n"
     ]
    }
   ],
   "source": [
    "#File Creation and Writing: Write a Python script to: ○ Create a file named data.txt. ○ Write the numbers from 1 to 10 (each on a new line) to the file. ○ Read the file and print its contents.\n",
    "\n",
    "file = open('data.txt','w')\n",
    "for i in range(1,14):\n",
    "    file.write(f'{i}\\n')\n",
    "file = open('data.txt','r')\n",
    "contents = file.read()\n",
    "print(contents)"
   ]
  },
  {
   "cell_type": "code",
   "execution_count": 33,
   "metadata": {},
   "outputs": [
    {
     "name": "stdout",
     "output_type": "stream",
     "text": [
      "The number of words in sample.txt is: File found. file exists.\n"
     ]
    }
   ],
   "source": [
    "#Word Count in File: Write a program that reads a file named sample.txt, counts the number of words in it, and prints the result\n",
    "\n",
    "def count_words_in_file(filename):\n",
    "    try:\n",
    "        with open(filename,'r') as file:\n",
    "            content = file.read()\n",
    "            words = content.split()\n",
    "            word_count = len(words)\n",
    "            return word_count\n",
    "    except FileNotFoundError:\n",
    "        return \"File found. file exists.\"\n",
    "\n",
    "# Example usage:\n",
    "filename = 'sample.txt' \n",
    "word_count = count_words_in_file(filename)\n",
    "print(f\"The number of words in {filename} is: {word_count}\")"
   ]
  },
  {
   "cell_type": "markdown",
   "metadata": {},
   "source": [
    "ERROR HANDLING"
   ]
  },
  {
   "cell_type": "code",
   "execution_count": 34,
   "metadata": {},
   "outputs": [
    {
     "name": "stdout",
     "output_type": "stream",
     "text": [
      "The result of 5.0 divided by 6.0 is: 0.8333333333333334\n"
     ]
    }
   ],
   "source": [
    "#Division with Error Handling: Write a program that takes two numbers as input and divides the first number by the second. ○ Use try and except to handle the division by zero error.\n",
    "\n",
    "num1 = float(input(\"Enter the first number: \"))\n",
    "num2 = float(input(\"Enter the second number: \"))\n",
    "\n",
    "try:\n",
    "    result = num1 / num2\n",
    "    print(f\"The result of {num1} divided by {num2} is: {result}\")\n",
    "\n",
    "except ZeroDivisionError:\n",
    "    print(\"Error: Division by zero is not allowed.\")"
   ]
  },
  {
   "cell_type": "code",
   "execution_count": 35,
   "metadata": {},
   "outputs": [
    {
     "name": "stdout",
     "output_type": "stream",
     "text": [
      "Thank you! You entered the integer: 8\n"
     ]
    }
   ],
   "source": [
    "#Integer Input Validation: Create a program that asks the user to input an integer. ○ Use try, except, and else to handle invalid input.\n",
    "\n",
    "try:\n",
    "    user_input = int(input(\"Please enter an integer: \"))\n",
    "except ValueError:\n",
    "    print(\"Error: That's not a valid integer.\")\n",
    "else:\n",
    "    print(f\"Thank you! You entered the integer: {user_input}\")"
   ]
  },
  {
   "cell_type": "code",
   "execution_count": 37,
   "metadata": {},
   "outputs": [
    {
     "name": "stdout",
     "output_type": "stream",
     "text": [
      "Error: The file 'unknown.txt' was  found.\n"
     ]
    }
   ],
   "source": [
    "#File Not Found Error Handling: Write a script that: ○ Opens a file named unknown.txt. ○ Handles the FileNotFoundError gracefully and prints an appropriate message.\n",
    "\n",
    "try:\n",
    "    with open(\"unknown.txt\", \"r\") as file:\n",
    "        content = file.read()\n",
    "        print(\"File content:\")\n",
    "        print(content)\n",
    "\n",
    "except FileNotFoundError:\n",
    "    print(\"Error: The file 'unknown.txt' was  found.\")\n"
   ]
  }
 ],
 "metadata": {
  "kernelspec": {
   "display_name": "Python 3",
   "language": "python",
   "name": "python3"
  },
  "language_info": {
   "codemirror_mode": {
    "name": "ipython",
    "version": 3
   },
   "file_extension": ".py",
   "mimetype": "text/x-python",
   "name": "python",
   "nbconvert_exporter": "python",
   "pygments_lexer": "ipython3",
   "version": "3.13.1"
  }
 },
 "nbformat": 4,
 "nbformat_minor": 2
}
